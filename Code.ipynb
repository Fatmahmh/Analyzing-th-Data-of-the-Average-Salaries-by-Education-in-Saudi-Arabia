{
 "cells": [
  {
   "cell_type": "markdown",
   "metadata": {},
   "source": [
    "# Average Salaries by Education in Saudi Arabia Data \n",
    "\n",
    "#### By Fatmah Alharthi\n",
    "\n",
    "This document walks through the CRISP-DM process to find project goal.\n",
    "- ##### Table of Contents :\n",
    "    1. Business Understanding\n",
    "    2. Data Understanding\n",
    "    3. Data Preparation\n",
    "    4. Data Modeling\n",
    "    5. Evaluate the Results"
   ]
  },
  {
   "cell_type": "markdown",
   "metadata": {},
   "source": [
    "## 1. Business Understanding :\n",
    "In this project, I have used the [Average Salaries by Education in Saudi Arabia dataset](https://www.kaggle.com/majedalhulayel/average-salaries-by-education-in-saudi-arabia#). \n",
    "The dataset containing average salaries ( in SAR ) per education level per nationality and gender for 504 entries. The data is extracted and consolidated from 18 different files sourced from [GASTA](https://www.stats.gov.sa/en/814) from 2017 Q1 till 2021 Q2.\n",
    "\n",
    "The Salary Is one of the Important aspects of the job for the employee and job seekers and for some workers it's the main driver of satisfaction ,So in this analysis, I will investigate how The salaries in Saudi Arabia are affected by the other features, and  the results will  be visualized for the poeple who interested in know how thier salaries will be affectd by nationality ,gender , education level in saudi arabia .\n",
    "\n",
    "\n",
    "The project goal is to answer the following questions using the dataset :\n",
    "1. Does higher education lead to higher Salaries (Does the employers pay more for thos have higher degrees and education)?\n",
    "2. Are citizens in Saudi Arabia getting the same salary as noncitizens if they have the same degree level? How is Nationality related to salary? \n",
    "3. Who gets higher salaries in Saudi Arabia, Females or Males? is there any gender discrimination?\n",
    "4. How does the COVID-19 pandemic Impact The salaries? \n",
    "\n",
    "As the second goal of this project, to build a predictive model to see if the salary can be predicted by the given features."
   ]
  },
  {
   "cell_type": "markdown",
   "metadata": {},
   "source": [
    "## 2. Data Understanding :\n",
    "Importing necessary libraries "
   ]
  },
  {
   "cell_type": "code",
   "execution_count": 1,
   "metadata": {},
   "outputs": [],
   "source": [
    "import numpy as np\n",
    "import pandas as pd\n",
    "import matplotlib.pyplot as plt\n",
    "import seaborn as sns\n",
    "from sklearn.model_selection import train_test_split\n",
    "from sklearn.linear_model import LinearRegression\n",
    "import statsmodels.api as sm\n",
    "%matplotlib inline"
   ]
  },
  {
   "cell_type": "markdown",
   "metadata": {},
   "source": [
    "Importing data set "
   ]
  },
  {
   "cell_type": "code",
   "execution_count": 2,
   "metadata": {},
   "outputs": [],
   "source": [
    "#load in the dataset into a pandas dataframe\n",
    "df = pd.read_csv('Salary_by_Education.csv')"
   ]
  },
  {
   "cell_type": "markdown",
   "metadata": {},
   "source": [
    "#### Assessing Data\n",
    "In this section, we detect and document the quality and tidiness issues using both visual assessment and programmatic assessement."
   ]
  },
  {
   "cell_type": "code",
   "execution_count": 3,
   "metadata": {},
   "outputs": [
    {
     "data": {
      "text/html": [
       "<div>\n",
       "<style scoped>\n",
       "    .dataframe tbody tr th:only-of-type {\n",
       "        vertical-align: middle;\n",
       "    }\n",
       "\n",
       "    .dataframe tbody tr th {\n",
       "        vertical-align: top;\n",
       "    }\n",
       "\n",
       "    .dataframe thead th {\n",
       "        text-align: right;\n",
       "    }\n",
       "</style>\n",
       "<table border=\"1\" class=\"dataframe\">\n",
       "  <thead>\n",
       "    <tr style=\"text-align: right;\">\n",
       "      <th></th>\n",
       "      <th>Degree Level</th>\n",
       "      <th>Nationality</th>\n",
       "      <th>Gender</th>\n",
       "      <th>Year Quarter</th>\n",
       "      <th>Salary</th>\n",
       "      <th>Currency</th>\n",
       "    </tr>\n",
       "  </thead>\n",
       "  <tbody>\n",
       "    <tr>\n",
       "      <th>0</th>\n",
       "      <td>Primary</td>\n",
       "      <td>NonSaudi</td>\n",
       "      <td>Female</td>\n",
       "      <td>2017 Q1</td>\n",
       "      <td>1590</td>\n",
       "      <td>SAR</td>\n",
       "    </tr>\n",
       "    <tr>\n",
       "      <th>1</th>\n",
       "      <td>Primary</td>\n",
       "      <td>NonSaudi</td>\n",
       "      <td>Male</td>\n",
       "      <td>2017 Q1</td>\n",
       "      <td>2173</td>\n",
       "      <td>SAR</td>\n",
       "    </tr>\n",
       "    <tr>\n",
       "      <th>2</th>\n",
       "      <td>Primary</td>\n",
       "      <td>Saudi</td>\n",
       "      <td>Female</td>\n",
       "      <td>2017 Q1</td>\n",
       "      <td>4172</td>\n",
       "      <td>SAR</td>\n",
       "    </tr>\n",
       "    <tr>\n",
       "      <th>3</th>\n",
       "      <td>Primary</td>\n",
       "      <td>Saudi</td>\n",
       "      <td>Male</td>\n",
       "      <td>2017 Q1</td>\n",
       "      <td>6172</td>\n",
       "      <td>SAR</td>\n",
       "    </tr>\n",
       "    <tr>\n",
       "      <th>4</th>\n",
       "      <td>Primary</td>\n",
       "      <td>NonSaudi</td>\n",
       "      <td>Female</td>\n",
       "      <td>2017 Q2</td>\n",
       "      <td>1597</td>\n",
       "      <td>SAR</td>\n",
       "    </tr>\n",
       "  </tbody>\n",
       "</table>\n",
       "</div>"
      ],
      "text/plain": [
       "  Degree Level Nationality  Gender Year Quarter  Salary Currency\n",
       "0      Primary    NonSaudi  Female      2017 Q1    1590      SAR\n",
       "1      Primary    NonSaudi    Male      2017 Q1    2173      SAR\n",
       "2      Primary       Saudi  Female      2017 Q1    4172      SAR\n",
       "3      Primary       Saudi    Male      2017 Q1    6172      SAR\n",
       "4      Primary    NonSaudi  Female      2017 Q2    1597      SAR"
      ]
     },
     "execution_count": 3,
     "metadata": {},
     "output_type": "execute_result"
    }
   ],
   "source": [
    "df.head()"
   ]
  },
  {
   "cell_type": "code",
   "execution_count": 4,
   "metadata": {},
   "outputs": [
    {
     "data": {
      "text/plain": [
       "(504, 6)"
      ]
     },
     "execution_count": 4,
     "metadata": {},
     "output_type": "execute_result"
    }
   ],
   "source": [
    "df.shape"
   ]
  },
  {
   "cell_type": "code",
   "execution_count": 5,
   "metadata": {},
   "outputs": [
    {
     "data": {
      "text/plain": [
       "Index(['Degree Level', 'Nationality', 'Gender', 'Year Quarter', 'Salary',\n",
       "       'Currency'],\n",
       "      dtype='object')"
      ]
     },
     "execution_count": 5,
     "metadata": {},
     "output_type": "execute_result"
    }
   ],
   "source": [
    "df.columns"
   ]
  },
  {
   "cell_type": "markdown",
   "metadata": {},
   "source": [
    "- The shape of The dataset is (504 rows, 6 columns) ."
   ]
  },
  {
   "cell_type": "code",
   "execution_count": 6,
   "metadata": {},
   "outputs": [
    {
     "data": {
      "text/plain": [
       "0"
      ]
     },
     "execution_count": 6,
     "metadata": {},
     "output_type": "execute_result"
    }
   ],
   "source": [
    "#Check any duplicates\n",
    "df.duplicated().sum()"
   ]
  },
  {
   "cell_type": "code",
   "execution_count": 7,
   "metadata": {},
   "outputs": [
    {
     "data": {
      "text/plain": [
       "Degree Level    0\n",
       "Nationality     0\n",
       "Gender          0\n",
       "Year Quarter    0\n",
       "Salary          0\n",
       "Currency        0\n",
       "dtype: int64"
      ]
     },
     "execution_count": 7,
     "metadata": {},
     "output_type": "execute_result"
    }
   ],
   "source": [
    "#Check null values\n",
    "df.isnull().sum() "
   ]
  },
  {
   "cell_type": "code",
   "execution_count": 8,
   "metadata": {
    "scrolled": true
   },
   "outputs": [
    {
     "name": "stdout",
     "output_type": "stream",
     "text": [
      "<class 'pandas.core.frame.DataFrame'>\n",
      "RangeIndex: 504 entries, 0 to 503\n",
      "Data columns (total 6 columns):\n",
      " #   Column        Non-Null Count  Dtype \n",
      "---  ------        --------------  ----- \n",
      " 0   Degree Level  504 non-null    object\n",
      " 1   Nationality   504 non-null    object\n",
      " 2   Gender        504 non-null    object\n",
      " 3   Year Quarter  504 non-null    object\n",
      " 4   Salary        504 non-null    int64 \n",
      " 5   Currency      504 non-null    object\n",
      "dtypes: int64(1), object(5)\n",
      "memory usage: 23.8+ KB\n"
     ]
    }
   ],
   "source": [
    "# check data types\n",
    "df.info()"
   ]
  },
  {
   "cell_type": "markdown",
   "metadata": {},
   "source": [
    "- There is no missing (Null) values "
   ]
  },
  {
   "cell_type": "code",
   "execution_count": 9,
   "metadata": {
    "scrolled": true
   },
   "outputs": [
    {
     "data": {
      "text/html": [
       "<div>\n",
       "<style scoped>\n",
       "    .dataframe tbody tr th:only-of-type {\n",
       "        vertical-align: middle;\n",
       "    }\n",
       "\n",
       "    .dataframe tbody tr th {\n",
       "        vertical-align: top;\n",
       "    }\n",
       "\n",
       "    .dataframe thead th {\n",
       "        text-align: right;\n",
       "    }\n",
       "</style>\n",
       "<table border=\"1\" class=\"dataframe\">\n",
       "  <thead>\n",
       "    <tr style=\"text-align: right;\">\n",
       "      <th></th>\n",
       "      <th>Salary</th>\n",
       "    </tr>\n",
       "  </thead>\n",
       "  <tbody>\n",
       "    <tr>\n",
       "      <th>count</th>\n",
       "      <td>504.000000</td>\n",
       "    </tr>\n",
       "    <tr>\n",
       "      <th>mean</th>\n",
       "      <td>8950.031746</td>\n",
       "    </tr>\n",
       "    <tr>\n",
       "      <th>std</th>\n",
       "      <td>6372.635277</td>\n",
       "    </tr>\n",
       "    <tr>\n",
       "      <th>min</th>\n",
       "      <td>1331.000000</td>\n",
       "    </tr>\n",
       "    <tr>\n",
       "      <th>25%</th>\n",
       "      <td>4194.000000</td>\n",
       "    </tr>\n",
       "    <tr>\n",
       "      <th>50%</th>\n",
       "      <td>7890.500000</td>\n",
       "    </tr>\n",
       "    <tr>\n",
       "      <th>75%</th>\n",
       "      <td>12448.750000</td>\n",
       "    </tr>\n",
       "    <tr>\n",
       "      <th>max</th>\n",
       "      <td>35622.000000</td>\n",
       "    </tr>\n",
       "  </tbody>\n",
       "</table>\n",
       "</div>"
      ],
      "text/plain": [
       "             Salary\n",
       "count    504.000000\n",
       "mean    8950.031746\n",
       "std     6372.635277\n",
       "min     1331.000000\n",
       "25%     4194.000000\n",
       "50%     7890.500000\n",
       "75%    12448.750000\n",
       "max    35622.000000"
      ]
     },
     "execution_count": 9,
     "metadata": {},
     "output_type": "execute_result"
    }
   ],
   "source": [
    "#descriptive statistics for the numeric variable\n",
    "df.describe()"
   ]
  },
  {
   "cell_type": "code",
   "execution_count": 10,
   "metadata": {},
   "outputs": [
    {
     "data": {
      "text/plain": [
       "Saudi       252\n",
       "NonSaudi    252\n",
       "Name: Nationality, dtype: int64"
      ]
     },
     "execution_count": 10,
     "metadata": {},
     "output_type": "execute_result"
    }
   ],
   "source": [
    "df.Nationality.value_counts()"
   ]
  },
  {
   "cell_type": "code",
   "execution_count": 11,
   "metadata": {
    "scrolled": false
   },
   "outputs": [
    {
     "data": {
      "text/plain": [
       "Female    252\n",
       "Male      252\n",
       "Name: Gender, dtype: int64"
      ]
     },
     "execution_count": 11,
     "metadata": {},
     "output_type": "execute_result"
    }
   ],
   "source": [
    "df.Gender.value_counts()"
   ]
  },
  {
   "cell_type": "code",
   "execution_count": 12,
   "metadata": {
    "scrolled": true
   },
   "outputs": [
    {
     "data": {
      "text/plain": [
       "Master Degree    72\n",
       "Doctorate        72\n",
       "Primary          72\n",
       "Secondary        72\n",
       "Intermediate     72\n",
       "Bachelor         72\n",
       "Diploma          72\n",
       "Name: Degree Level, dtype: int64"
      ]
     },
     "execution_count": 12,
     "metadata": {},
     "output_type": "execute_result"
    }
   ],
   "source": [
    "df['Degree Level'].value_counts() "
   ]
  },
  {
   "cell_type": "code",
   "execution_count": 13,
   "metadata": {},
   "outputs": [
    {
     "data": {
      "text/plain": [
       "SAR    504\n",
       "Name: Currency, dtype: int64"
      ]
     },
     "execution_count": 13,
     "metadata": {},
     "output_type": "execute_result"
    }
   ],
   "source": [
    "df.Currency.value_counts() "
   ]
  },
  {
   "cell_type": "markdown",
   "metadata": {},
   "source": [
    "- As there is only one value in this columns , it should be dropped and rename the 'Salary' column to indicate the Currency"
   ]
  },
  {
   "cell_type": "code",
   "execution_count": 14,
   "metadata": {
    "scrolled": false
   },
   "outputs": [
    {
     "data": {
      "text/plain": [
       "2019 Q4    28\n",
       "2020 Q2    28\n",
       "2019 Q1    28\n",
       "2020 Q1    28\n",
       "2018 Q1    28\n",
       "2018 Q3    28\n",
       "2017 Q4    28\n",
       "2017 Q1    28\n",
       "2017 Q2    28\n",
       "2018 Q4    28\n",
       "2019 Q2    28\n",
       "2017 Q3    28\n",
       "2019 Q3    28\n",
       "2018 Q2    28\n",
       "2020 Q3    28\n",
       "2021 Q1    28\n",
       "2020 Q4    28\n",
       "2021 Q2    28\n",
       "Name: Year Quarter, dtype: int64"
      ]
     },
     "execution_count": 14,
     "metadata": {},
     "output_type": "execute_result"
    }
   ],
   "source": [
    " df['Year Quarter'].value_counts() "
   ]
  },
  {
   "cell_type": "markdown",
   "metadata": {},
   "source": [
    "- we have to split this column into 2 columns, one for Year and the other one for Quarter"
   ]
  },
  {
   "cell_type": "markdown",
   "metadata": {},
   "source": [
    "##### Quality issues\n",
    "    1. Converting datatype ,A data type of the 'Nationality' and 'gender'and 'Degree Level' columns is string, should be catogrical.\n",
    "    2. Renaming the column 'Salary' to indicate the currency to be descriptive name, 'Salary (SAR)'.\n",
    "\n",
    "##### Tidiness issues\n",
    "    3. Dropping unnecessary column , which is 'Currency' , Because it has the same value for all records.\n",
    "    4. Add columns for 'year' , 'Quarter' , by extract the values from 'Year Quarter' column.\n"
   ]
  },
  {
   "cell_type": "markdown",
   "metadata": {},
   "source": [
    "## 3. Data Preparation\n",
    "#### Data Cleaning \n",
    "In this section, clean the issues that we documented previously while assessing. \n",
    "Important point is to make a copy of the original data before cleaning. "
   ]
  },
  {
   "cell_type": "code",
   "execution_count": 15,
   "metadata": {},
   "outputs": [],
   "source": [
    "#Make copy of original data\n",
    "clean_df = df.copy()"
   ]
  },
  {
   "cell_type": "markdown",
   "metadata": {},
   "source": [
    "### Issue #1:"
   ]
  },
  {
   "cell_type": "markdown",
   "metadata": {},
   "source": [
    "- Converte datatypes of the 'Nationality' and 'Gender'and 'Degree Level' columns , to be catogrical."
   ]
  },
  {
   "cell_type": "code",
   "execution_count": 16,
   "metadata": {},
   "outputs": [],
   "source": [
    "# convert columns into categorical types\n",
    "clean_df['Nationality'] = pd.Categorical(clean_df.Nationality)\n",
    "clean_df['Gender'] = pd.Categorical(clean_df.Gender)\n",
    "clean_df['Degree Level'] = pd.Categorical(clean_df['Degree Level'])"
   ]
  },
  {
   "cell_type": "code",
   "execution_count": 17,
   "metadata": {},
   "outputs": [
    {
     "data": {
      "text/plain": [
       "Degree Level    category\n",
       "Nationality     category\n",
       "Gender          category\n",
       "Year Quarter      object\n",
       "Salary             int64\n",
       "Currency          object\n",
       "dtype: object"
      ]
     },
     "execution_count": 17,
     "metadata": {},
     "output_type": "execute_result"
    }
   ],
   "source": [
    "clean_df.dtypes"
   ]
  },
  {
   "cell_type": "markdown",
   "metadata": {},
   "source": [
    "### Issue #2:"
   ]
  },
  {
   "cell_type": "markdown",
   "metadata": {},
   "source": [
    "- Rename the 'Salary' column"
   ]
  },
  {
   "cell_type": "code",
   "execution_count": 18,
   "metadata": {},
   "outputs": [],
   "source": [
    "clean_df.rename(columns={'Salary': 'Salary (SAR)'}, inplace=True)"
   ]
  },
  {
   "cell_type": "code",
   "execution_count": 19,
   "metadata": {},
   "outputs": [
    {
     "data": {
      "text/plain": [
       "Index(['Degree Level', 'Nationality', 'Gender', 'Year Quarter', 'Salary (SAR)',\n",
       "       'Currency'],\n",
       "      dtype='object')"
      ]
     },
     "execution_count": 19,
     "metadata": {},
     "output_type": "execute_result"
    }
   ],
   "source": [
    "clean_df.columns"
   ]
  },
  {
   "cell_type": "markdown",
   "metadata": {},
   "source": [
    "### Issue #3:"
   ]
  },
  {
   "cell_type": "markdown",
   "metadata": {},
   "source": [
    "- Dropping unnecessary column , which is 'Currency' , Because it has the same value for all records."
   ]
  },
  {
   "cell_type": "code",
   "execution_count": 20,
   "metadata": {},
   "outputs": [],
   "source": [
    "clean_df.drop(columns=['Currency'],inplace=True)"
   ]
  },
  {
   "cell_type": "code",
   "execution_count": 21,
   "metadata": {
    "scrolled": true
   },
   "outputs": [
    {
     "data": {
      "text/plain": [
       "Index(['Degree Level', 'Nationality', 'Gender', 'Year Quarter',\n",
       "       'Salary (SAR)'],\n",
       "      dtype='object')"
      ]
     },
     "execution_count": 21,
     "metadata": {},
     "output_type": "execute_result"
    }
   ],
   "source": [
    "clean_df.columns"
   ]
  },
  {
   "cell_type": "markdown",
   "metadata": {},
   "source": [
    "### Issue #4:"
   ]
  },
  {
   "cell_type": "markdown",
   "metadata": {},
   "source": [
    "- splitting 'Year Quarter' column into 2 columns"
   ]
  },
  {
   "cell_type": "code",
   "execution_count": 22,
   "metadata": {},
   "outputs": [],
   "source": [
    "#the string is split by a space.\n",
    "clean_df[['Year', 'Quarter']] = clean_df['Year Quarter'].str.split(' ', 1, expand=True)"
   ]
  },
  {
   "cell_type": "code",
   "execution_count": 23,
   "metadata": {},
   "outputs": [],
   "source": [
    "#drop the 'Year Quarter' column after extracting values from it\n",
    "clean_df.drop(columns=['Year Quarter'],inplace=True)"
   ]
  },
  {
   "cell_type": "code",
   "execution_count": 24,
   "metadata": {
    "scrolled": true
   },
   "outputs": [
    {
     "data": {
      "text/html": [
       "<div>\n",
       "<style scoped>\n",
       "    .dataframe tbody tr th:only-of-type {\n",
       "        vertical-align: middle;\n",
       "    }\n",
       "\n",
       "    .dataframe tbody tr th {\n",
       "        vertical-align: top;\n",
       "    }\n",
       "\n",
       "    .dataframe thead th {\n",
       "        text-align: right;\n",
       "    }\n",
       "</style>\n",
       "<table border=\"1\" class=\"dataframe\">\n",
       "  <thead>\n",
       "    <tr style=\"text-align: right;\">\n",
       "      <th></th>\n",
       "      <th>Degree Level</th>\n",
       "      <th>Nationality</th>\n",
       "      <th>Gender</th>\n",
       "      <th>Salary (SAR)</th>\n",
       "      <th>Year</th>\n",
       "      <th>Quarter</th>\n",
       "    </tr>\n",
       "  </thead>\n",
       "  <tbody>\n",
       "    <tr>\n",
       "      <th>0</th>\n",
       "      <td>Primary</td>\n",
       "      <td>NonSaudi</td>\n",
       "      <td>Female</td>\n",
       "      <td>1590</td>\n",
       "      <td>2017</td>\n",
       "      <td>Q1</td>\n",
       "    </tr>\n",
       "    <tr>\n",
       "      <th>1</th>\n",
       "      <td>Primary</td>\n",
       "      <td>NonSaudi</td>\n",
       "      <td>Male</td>\n",
       "      <td>2173</td>\n",
       "      <td>2017</td>\n",
       "      <td>Q1</td>\n",
       "    </tr>\n",
       "    <tr>\n",
       "      <th>2</th>\n",
       "      <td>Primary</td>\n",
       "      <td>Saudi</td>\n",
       "      <td>Female</td>\n",
       "      <td>4172</td>\n",
       "      <td>2017</td>\n",
       "      <td>Q1</td>\n",
       "    </tr>\n",
       "    <tr>\n",
       "      <th>3</th>\n",
       "      <td>Primary</td>\n",
       "      <td>Saudi</td>\n",
       "      <td>Male</td>\n",
       "      <td>6172</td>\n",
       "      <td>2017</td>\n",
       "      <td>Q1</td>\n",
       "    </tr>\n",
       "    <tr>\n",
       "      <th>4</th>\n",
       "      <td>Primary</td>\n",
       "      <td>NonSaudi</td>\n",
       "      <td>Female</td>\n",
       "      <td>1597</td>\n",
       "      <td>2017</td>\n",
       "      <td>Q2</td>\n",
       "    </tr>\n",
       "  </tbody>\n",
       "</table>\n",
       "</div>"
      ],
      "text/plain": [
       "  Degree Level Nationality  Gender  Salary (SAR)  Year Quarter\n",
       "0      Primary    NonSaudi  Female          1590  2017      Q1\n",
       "1      Primary    NonSaudi    Male          2173  2017      Q1\n",
       "2      Primary       Saudi  Female          4172  2017      Q1\n",
       "3      Primary       Saudi    Male          6172  2017      Q1\n",
       "4      Primary    NonSaudi  Female          1597  2017      Q2"
      ]
     },
     "execution_count": 24,
     "metadata": {},
     "output_type": "execute_result"
    }
   ],
   "source": [
    "clean_df.head()"
   ]
  },
  {
   "cell_type": "code",
   "execution_count": 25,
   "metadata": {},
   "outputs": [],
   "source": [
    "#Convert the type of year to be int \n",
    "clean_df['Year']= clean_df['Year'].astype(int)"
   ]
  },
  {
   "cell_type": "code",
   "execution_count": 26,
   "metadata": {},
   "outputs": [
    {
     "data": {
      "text/plain": [
       "Degree Level    category\n",
       "Nationality     category\n",
       "Gender          category\n",
       "Salary (SAR)       int64\n",
       "Year               int32\n",
       "Quarter           object\n",
       "dtype: object"
      ]
     },
     "execution_count": 26,
     "metadata": {},
     "output_type": "execute_result"
    }
   ],
   "source": [
    "clean_df.dtypes "
   ]
  },
  {
   "cell_type": "markdown",
   "metadata": {},
   "source": [
    "- The data wrangling is finished here, Now the cleaned data will be saved before starts analyzing\n",
    "\n",
    "## Data Analysis and Visualization :"
   ]
  },
  {
   "cell_type": "markdown",
   "metadata": {},
   "source": [
    "##### Q.1. Does the salary really grow with Degree Level (Does the employers pay well for thos have higher degrees and education)?"
   ]
  },
  {
   "cell_type": "code",
   "execution_count": 27,
   "metadata": {},
   "outputs": [
    {
     "data": {
      "text/plain": [
       "<AxesSubplot:xlabel='Degree Level', ylabel='Salary (SAR)'>"
      ]
     },
     "execution_count": 27,
     "metadata": {},
     "output_type": "execute_result"
    },
    {
     "data": {
      "image/png": "[encoded data removed]",
      "text/plain": [
       "<Figure size 1000x400 with 1 Axes>"
      ]
     },
     "metadata": {
      "needs_background": "light"
     },
     "output_type": "display_data"
    }
   ],
   "source": [
    "plt.figure(figsize=(10,4), dpi=100)\n",
    "sns.violinplot(x=\"Degree Level\", y=\"Salary (SAR)\", data=clean_df)"
   ]
  },
  {
   "cell_type": "code",
   "execution_count": 28,
   "metadata": {
    "scrolled": true
   },
   "outputs": [
    {
     "data": {
      "image/png": "[encoded data removed]",
      "text/plain": [
       "<Figure size 1000x400 with 1 Axes>"
      ]
     },
     "metadata": {
      "needs_background": "light"
     },
     "output_type": "display_data"
    }
   ],
   "source": [
    "plt. figure(figsize=(10,4), dpi=100)\n",
    "plt.bar(clean_df[\"Degree Level\"],clean_df[\"Salary (SAR)\"])\n",
    "plt.show()"
   ]
  },
  {
   "cell_type": "markdown",
   "metadata": {},
   "source": [
    "**Observation** :\n",
    "\n",
    "Based on the above, \n",
    "- The salary has a strong relationship with the level of education and it gets higher with the higher degrees. \n",
    "- The people with doctorates get the highest salaries followed by the master degree holder then those who with the bachelor and Diploma, secondary, intermediate and primary  respectively\n",
    " "
   ]
  },
  {
   "cell_type": "markdown",
   "metadata": {},
   "source": [
    "##### Q.2. Is citizens in Saudi Arabia get the same salary as noncitizens if they have the same degree level? How is Nationality related to salary?"
   ]
  },
  {
   "cell_type": "code",
   "execution_count": 29,
   "metadata": {},
   "outputs": [
    {
     "data": {
      "text/plain": [
       "<matplotlib.legend.Legend at 0x22eabac3fd0>"
      ]
     },
     "execution_count": 29,
     "metadata": {},
     "output_type": "execute_result"
    },
    {
     "data": {
      "image/png": "[encoded data removed]",
      "text/plain": [
       "<Figure size 432x288 with 1 Axes>"
      ]
     },
     "metadata": {
      "needs_background": "light"
     },
     "output_type": "display_data"
    }
   ],
   "source": [
    "ax = sns.barplot(data = clean_df, x = 'Nationality', y = 'Salary (SAR)', hue = \"Degree Level\")\n",
    "ax.legend(loc = 8, ncol = 1, framealpha = 0.3,)"
   ]
  },
  {
   "cell_type": "code",
   "execution_count": 30,
   "metadata": {
    "scrolled": false
   },
   "outputs": [
    {
     "data": {
      "text/plain": [
       "<seaborn.axisgrid.FacetGrid at 0x22eabb288e0>"
      ]
     },
     "execution_count": 30,
     "metadata": {},
     "output_type": "execute_result"
    },
    {
     "data": {
      "image/png": "[encoded data removed]",
      "text/plain": [
       "<Figure size 432x216 with 2 Axes>"
      ]
     },
     "metadata": {
      "needs_background": "light"
     },
     "output_type": "display_data"
    }
   ],
   "source": [
    "# Plot the Seaborn's FacetGrid\n",
    "g = sns.FacetGrid(data = clean_df, col = 'Nationality')\n",
    "g.map(plt.hist, \"Salary (SAR)\")"
   ]
  },
  {
   "cell_type": "markdown",
   "metadata": {},
   "source": [
    "**Observation** :\n",
    "- It's obvious that the citizens in Saudi Arabia get a higher salary than the noncitizens with the same degree level."
   ]
  },
  {
   "cell_type": "markdown",
   "metadata": {},
   "source": [
    "##### Q.3. who gets higher salaries in Saudi Arabia, Females or Males? is there any gender-discrimination"
   ]
  },
  {
   "cell_type": "code",
   "execution_count": 31,
   "metadata": {},
   "outputs": [
    {
     "data": {
      "text/plain": [
       "<AxesSubplot:xlabel='Gender', ylabel='Salary (SAR)'>"
      ]
     },
     "execution_count": 31,
     "metadata": {},
     "output_type": "execute_result"
    },
    {
     "data": {
      "image/png": "[encoded data removed]",
      "text/plain": [
       "<Figure size 432x288 with 1 Axes>"
      ]
     },
     "metadata": {
      "needs_background": "light"
     },
     "output_type": "display_data"
    }
   ],
   "source": [
    "sns.boxplot(data=clean_df, y='Salary (SAR)', x='Gender')"
   ]
  },
  {
   "cell_type": "code",
   "execution_count": 32,
   "metadata": {
    "scrolled": false
   },
   "outputs": [
    {
     "data": {
      "text/plain": [
       "<seaborn.axisgrid.FacetGrid at 0x22eabcc5850>"
      ]
     },
     "execution_count": 32,
     "metadata": {},
     "output_type": "execute_result"
    },
    {
     "data": {
      "image/png": "[encoded data removed]",
      "text/plain": [
       "<Figure size 432x216 with 2 Axes>"
      ]
     },
     "metadata": {
      "needs_background": "light"
     },
     "output_type": "display_data"
    }
   ],
   "source": [
    "# Plot the Seaborn's FacetGrid\n",
    "g = sns.FacetGrid(data = clean_df, col = 'Gender',hue_kws={'color': ['pink','blue']},)\n",
    "g.map(plt.hist, \"Salary (SAR)\")"
   ]
  },
  {
   "cell_type": "code",
   "execution_count": 33,
   "metadata": {},
   "outputs": [
    {
     "data": {
      "text/plain": [
       "35622"
      ]
     },
     "execution_count": 33,
     "metadata": {},
     "output_type": "execute_result"
    }
   ],
   "source": [
    "clean_df[clean_df.Gender == 'Male']['Salary (SAR)'].max()"
   ]
  },
  {
   "cell_type": "code",
   "execution_count": 34,
   "metadata": {},
   "outputs": [
    {
     "data": {
      "text/plain": [
       "25676"
      ]
     },
     "execution_count": 34,
     "metadata": {},
     "output_type": "execute_result"
    }
   ],
   "source": [
    "clean_df[clean_df.Gender == 'Female']['Salary (SAR)'].max()"
   ]
  },
  {
   "cell_type": "markdown",
   "metadata": {},
   "source": [
    "**Observation** :\n",
    "\n",
    "Based on the results from the data, \n",
    "- we can say the males get higher salaries but that does not mean there is a gender-discrimination , may that is because of their level of education, I will examine this next.\n",
    "- The highest salary the male had is 35,622 SAR while the highest salary the female had is 25676 SAR ,which is a really big difference at approximately 10,000 SAR "
   ]
  },
  {
   "cell_type": "code",
   "execution_count": 35,
   "metadata": {
    "scrolled": true
   },
   "outputs": [
    {
     "data": {
      "text/plain": [
       "Bachelor         36\n",
       "Diploma          36\n",
       "Doctorate        36\n",
       "Intermediate     36\n",
       "Master Degree    36\n",
       "Primary          36\n",
       "Secondary        36\n",
       "Name: Degree Level, dtype: int64"
      ]
     },
     "execution_count": 35,
     "metadata": {},
     "output_type": "execute_result"
    }
   ],
   "source": [
    "clean_df[clean_df.Gender == 'Male']['Degree Level'].value_counts()"
   ]
  },
  {
   "cell_type": "code",
   "execution_count": 36,
   "metadata": {
    "scrolled": false
   },
   "outputs": [
    {
     "data": {
      "text/plain": [
       "Bachelor         36\n",
       "Diploma          36\n",
       "Doctorate        36\n",
       "Intermediate     36\n",
       "Master Degree    36\n",
       "Primary          36\n",
       "Secondary        36\n",
       "Name: Degree Level, dtype: int64"
      ]
     },
     "execution_count": 36,
     "metadata": {},
     "output_type": "execute_result"
    }
   ],
   "source": [
    "clean_df[clean_df.Gender == 'Female']['Degree Level'].value_counts()"
   ]
  },
  {
   "cell_type": "markdown",
   "metadata": {},
   "source": [
    "- Unexpectedly, The number of females and males in each degree level of education is equal,So that might depend on other factors that are not provided such as the  'employer'. \n",
    "\n",
    "- Or simply might that because the data does not reflect the real world. I said this by reason of  I don't see any diff in the salaries in Saudi Arabia between males and females any gender discrimination as citizen female."
   ]
  },
  {
   "cell_type": "markdown",
   "metadata": {},
   "source": [
    "##### Q.4. How does the COVID-19 pandemic Impact The salaries?\n",
    "I will use the Year and Quarter columns to answer this question, The pandemic started in January 2020, which is in the 1st quarter (Q1)of the year (2020). So the data will be divide into 2 groups, before Q1 of 2020 (before the pandemic) , which is all quarters of 2018,2019,2019, and after that  (after he pandemic) which is from the start of 2020"
   ]
  },
  {
   "cell_type": "code",
   "execution_count": 45,
   "metadata": {},
   "outputs": [],
   "source": [
    "\n",
    "def divide_df(df):\n",
    "    \"\"\"\n",
    "    this function divide the data frame into 2 groups.\n",
    "       Parameters:\n",
    "    arg1 (pandas DataFrame): this is a Series with the data type of each column, which containing the loaded dataset\n",
    "  \n",
    "    Returns:\n",
    "    before_pandemic(pandas DataFrame) : the part of the data before Q1 of 2020 (before the pandemic),which is all quarters of 2018,2019,2019,\n",
    "    after_pandemic(pandas DataFrame) :the part of the data after he pandemic which is from the start of 2020\n",
    "\"\"\"\n",
    "    before_pandemic = df[(df.Year != 2020) & (df.Year != 2021)]\n",
    "    after_pandemic = df[(df.Year == 2020) | (df.Year == 2021)]\n",
    "    return before_pandemic,after_pandemic\n",
    "\n",
    "before_pandemic,after_pandemic = divide_df(clean_df)"
   ]
  },
  {
   "cell_type": "code",
   "execution_count": 46,
   "metadata": {},
   "outputs": [
    {
     "data": {
      "text/plain": [
       "2017    112\n",
       "2018    112\n",
       "2019    112\n",
       "Name: Year, dtype: int64"
      ]
     },
     "execution_count": 46,
     "metadata": {},
     "output_type": "execute_result"
    }
   ],
   "source": [
    "before_pandemic.Year.value_counts()"
   ]
  },
  {
   "cell_type": "code",
   "execution_count": 47,
   "metadata": {},
   "outputs": [
    {
     "data": {
      "text/plain": [
       "2020    112\n",
       "2021     56\n",
       "Name: Year, dtype: int64"
      ]
     },
     "execution_count": 47,
     "metadata": {},
     "output_type": "execute_result"
    }
   ],
   "source": [
    "after_pandemic.Year.value_counts()"
   ]
  },
  {
   "cell_type": "code",
   "execution_count": 48,
   "metadata": {},
   "outputs": [
    {
     "data": {
      "image/png": "[encoded data removed]",
      "text/plain": [
       "<Figure size 432x288 with 1 Axes>"
      ]
     },
     "metadata": {
      "needs_background": "light"
     },
     "output_type": "display_data"
    }
   ],
   "source": [
    "# Plot a simple line chart\n",
    "plt.plot(before_pandemic[\"Salary (SAR)\"])\n",
    "plt.show()"
   ]
  },
  {
   "cell_type": "code",
   "execution_count": 49,
   "metadata": {},
   "outputs": [
    {
     "data": {
      "image/png": "[encoded data removed]",
      "text/plain": [
       "<Figure size 432x288 with 1 Axes>"
      ]
     },
     "metadata": {
      "needs_background": "light"
     },
     "output_type": "display_data"
    }
   ],
   "source": [
    "# Plot a simple line chart\n",
    "plt.plot(after_pandemic[\"Salary (SAR)\"])\n",
    "plt.show()"
   ]
  },
  {
   "cell_type": "code",
   "execution_count": 50,
   "metadata": {},
   "outputs": [
    {
     "name": "stderr",
     "output_type": "stream",
     "text": [
      "C:\\Users\\Fatma\\anaconda3\\lib\\site-packages\\seaborn\\distributions.py:2557: FutureWarning: `distplot` is a deprecated function and will be removed in a future version. Please adapt your code to use either `displot` (a figure-level function with similar flexibility) or `histplot` (an axes-level function for histograms).\n",
      "  warnings.warn(msg, FutureWarning)\n"
     ]
    },
    {
     "data": {
      "text/plain": [
       "<AxesSubplot:xlabel='Salary (SAR)', ylabel='Density'>"
      ]
     },
     "execution_count": 50,
     "metadata": {},
     "output_type": "execute_result"
    },
    {
     "data": {
      "image/png": "[encoded data removed]",
      "text/plain": [
       "<Figure size 432x288 with 1 Axes>"
      ]
     },
     "metadata": {
      "needs_background": "light"
     },
     "output_type": "display_data"
    }
   ],
   "source": [
    "# Density Plot and Histogram for befor_pandemic \n",
    "sns.distplot(before_pandemic[\"Salary (SAR)\"], hist=True, kde=True, \n",
    "             bins=int(180/5), color = 'darkred', \n",
    "             hist_kws={'edgecolor':'black'},\n",
    "             kde_kws={'linewidth': 4})"
   ]
  },
  {
   "cell_type": "code",
   "execution_count": 51,
   "metadata": {},
   "outputs": [
    {
     "name": "stderr",
     "output_type": "stream",
     "text": [
      "C:\\Users\\Fatma\\anaconda3\\lib\\site-packages\\seaborn\\distributions.py:2557: FutureWarning: `distplot` is a deprecated function and will be removed in a future version. Please adapt your code to use either `displot` (a figure-level function with similar flexibility) or `histplot` (an axes-level function for histograms).\n",
      "  warnings.warn(msg, FutureWarning)\n"
     ]
    },
    {
     "data": {
      "text/plain": [
       "<AxesSubplot:xlabel='Salary (SAR)', ylabel='Density'>"
      ]
     },
     "execution_count": 51,
     "metadata": {},
     "output_type": "execute_result"
    },
    {
     "data": {
      "image/png": "[encoded data removed]",
      "text/plain": [
       "<Figure size 432x288 with 1 Axes>"
      ]
     },
     "metadata": {
      "needs_background": "light"
     },
     "output_type": "display_data"
    }
   ],
   "source": [
    "# Density Plot and Histogram for after_pandemic \n",
    "sns.distplot(after_pandemic[\"Salary (SAR)\"], hist=True, kde=True, \n",
    "             bins=int(180/5), color = 'lightgreen', \n",
    "             hist_kws={'edgecolor':'black'},\n",
    "             kde_kws={'linewidth': 4})"
   ]
  },
  {
   "cell_type": "code",
   "execution_count": 52,
   "metadata": {
    "scrolled": true
   },
   "outputs": [
    {
     "name": "stderr",
     "output_type": "stream",
     "text": [
      "C:\\Users\\Fatma\\anaconda3\\lib\\site-packages\\seaborn\\distributions.py:2557: FutureWarning: `distplot` is a deprecated function and will be removed in a future version. Please adapt your code to use either `displot` (a figure-level function with similar flexibility) or `histplot` (an axes-level function for histograms).\n",
      "  warnings.warn(msg, FutureWarning)\n",
      "C:\\Users\\Fatma\\anaconda3\\lib\\site-packages\\seaborn\\distributions.py:2557: FutureWarning: `distplot` is a deprecated function and will be removed in a future version. Please adapt your code to use either `displot` (a figure-level function with similar flexibility) or `histplot` (an axes-level function for histograms).\n",
      "  warnings.warn(msg, FutureWarning)\n"
     ]
    },
    {
     "data": {
      "text/plain": [
       "<AxesSubplot:xlabel='Salary (SAR)', ylabel='Density'>"
      ]
     },
     "execution_count": 52,
     "metadata": {},
     "output_type": "execute_result"
    },
    {
     "data": {
      "image/png": "[encoded data removed]",
      "text/plain": [
       "<Figure size 432x288 with 1 Axes>"
      ]
     },
     "metadata": {
      "needs_background": "light"
     },
     "output_type": "display_data"
    }
   ],
   "source": [
    "# 2 ni 1 to see the diff\n",
    "# Density Plot and Histogram for befor_pandemic \n",
    "sns.distplot(before_pandemic[\"Salary (SAR)\"], hist=True, kde=True, \n",
    "             bins=int(180/5), color = 'darkred', \n",
    "             hist_kws={'edgecolor':'black'},\n",
    "             kde_kws={'linewidth': 4})\n",
    "# Density Plot and Histogram for after_pandemic \n",
    "sns.distplot(after_pandemic[\"Salary (SAR)\"], hist=True, kde=True, \n",
    "             bins=int(180/5), color = 'lightgreen', \n",
    "             hist_kws={'edgecolor':'black'},\n",
    "             kde_kws={'linewidth': 4})"
   ]
  },
  {
   "cell_type": "markdown",
   "metadata": {},
   "source": [
    "**Observation** :\n",
    "- We can't say the salaries are not affected by the pandemic as we see that the curve of the salaries before the pandemic is slightly higher than the salaries curve during the pandemic.\n",
    "\n"
   ]
  },
  {
   "cell_type": "markdown",
   "metadata": {},
   "source": [
    "## 4. Data Modeling\n",
    "Although I dont see that the salary  is dependet only on the Degree Level\t, Nationality and Gender because this is a little  naive , As we have the years of working experience which is consederd an imporatnt factor . Also , there are others factors .\n",
    "As part of this project ,I will try to develop a predicitve model to show a relationship between the only provided featurs  and the salary using simple linear regression ."
   ]
  },
  {
   "cell_type": "markdown",
   "metadata": {},
   "source": [
    "Categorical variables require special attention in regression analysis because, unlike the numeric variables, they cannot by entered into the regression equation just as they are. Instead, they need to be recoded into a series of variables which can then be entered into the regression model"
   ]
  },
  {
   "cell_type": "code",
   "execution_count": 53,
   "metadata": {},
   "outputs": [],
   "source": [
    "#Encode\n",
    "#In the above data frame, we have a categorical variable, so we need to add dummy variables instead.\n",
    "var_to_dummy = clean_df[['Nationality','Gender','Degree Level']]\n",
    "dummies = pd.get_dummies(data=var_to_dummy,drop_first=True) #this code added the dummy variable in form of 0 and 1, which is easy to interpret for the regression model.\n",
    "#Join the encoded df\n",
    "dummies.columns\n",
    "clean_df = clean_df.join(dummies)\n",
    "clean_df.drop(columns=['Nationality','Gender','Degree Level','Year', 'Quarter'],inplace=True)"
   ]
  },
  {
   "cell_type": "code",
   "execution_count": 54,
   "metadata": {},
   "outputs": [
    {
     "data": {
      "text/plain": [
       "Index(['Salary (SAR)', 'Nationality_Saudi', 'Gender_Male',\n",
       "       'Degree Level_Diploma', 'Degree Level_Doctorate',\n",
       "       'Degree Level_Intermediate', 'Degree Level_Master Degree',\n",
       "       'Degree Level_Primary', 'Degree Level_Secondary'],\n",
       "      dtype='object')"
      ]
     },
     "execution_count": 54,
     "metadata": {},
     "output_type": "execute_result"
    }
   ],
   "source": [
    "clean_df.columns"
   ]
  },
  {
   "cell_type": "markdown",
   "metadata": {},
   "source": [
    "Predicting Salary using Linear Model"
   ]
  },
  {
   "cell_type": "code",
   "execution_count": 55,
   "metadata": {},
   "outputs": [],
   "source": [
    "#the independent variables will be the all except salary\n",
    "X = clean_df.drop(columns=['Salary (SAR)'])\n",
    "#the dependent variables would be the salary\n",
    "Y = clean_df['Salary (SAR)']\n",
    "#creating a train and test dataset\n",
    "x_train, x_test,y_train,y_test = train_test_split(X,Y,test_size =0.2)"
   ]
  },
  {
   "cell_type": "code",
   "execution_count": 56,
   "metadata": {},
   "outputs": [
    {
     "data": {
      "text/plain": [
       "LinearRegression()"
      ]
     },
     "execution_count": 56,
     "metadata": {},
     "output_type": "execute_result"
    }
   ],
   "source": [
    "#create the instance of LinearRegression\n",
    "model = LinearRegression()\n",
    "# fit the model\n",
    "model.fit(x_train,y_train)"
   ]
  },
  {
   "cell_type": "code",
   "execution_count": 57,
   "metadata": {},
   "outputs": [
    {
     "data": {
      "text/plain": [
       "0.9334175096244792"
      ]
     },
     "execution_count": 57,
     "metadata": {},
     "output_type": "execute_result"
    }
   ],
   "source": [
    "#make a predictions  on the test set \n",
    "predictions = model.predict(x_test)\n",
    "#measuring the accuracy of the model \n",
    "model.score(x_test,y_test)"
   ]
  },
  {
   "cell_type": "markdown",
   "metadata": {},
   "source": [
    "- The model accuracy is 93.34%, Which is considered good.\n",
    "- That means we can predict the salary using the chosen independent variables correctly with 93.34%"
   ]
  },
  {
   "cell_type": "code",
   "execution_count": 60,
   "metadata": {},
   "outputs": [
    {
     "name": "stderr",
     "output_type": "stream",
     "text": [
      "C:\\Users\\Fatma\\anaconda3\\lib\\site-packages\\seaborn\\_decorators.py:36: FutureWarning: Pass the following variables as keyword args: x, y. From version 0.12, the only valid positional argument will be `data`, and passing other arguments without an explicit keyword will result in an error or misinterpretation.\n",
      "  warnings.warn(\n"
     ]
    },
    {
     "data": {
      "image/png": "[encoded data removed]",
      "text/plain": [
       "<Figure size 432x288 with 1 Axes>"
      ]
     },
     "metadata": {
      "needs_background": "light"
     },
     "output_type": "display_data"
    }
   ],
   "source": [
    "#plot the predicted variable\n",
    "sns.regplot(y_test,predictions);"
   ]
  },
  {
   "cell_type": "code",
   "execution_count": 61,
   "metadata": {
    "scrolled": false
   },
   "outputs": [
    {
     "name": "stdout",
     "output_type": "stream",
     "text": [
      "                            OLS Regression Results                            \n",
      "==============================================================================\n",
      "Dep. Variable:           Salary (SAR)   R-squared:                       0.929\n",
      "Model:                            OLS   Adj. R-squared:                  0.928\n",
      "Method:                 Least Squares   F-statistic:                     648.0\n",
      "Date:                Mon, 22 Nov 2021   Prob (F-statistic):          1.88e-221\n",
      "Time:                        09:54:57   Log-Likelihood:                -3574.9\n",
      "No. Observations:                 403   AIC:                             7168.\n",
      "Df Residuals:                     394   BIC:                             7204.\n",
      "Df Model:                           8                                         \n",
      "Covariance Type:            nonrobust                                         \n",
      "==============================================================================================\n",
      "                                 coef    std err          t      P>|t|      [0.025      0.975]\n",
      "----------------------------------------------------------------------------------------------\n",
      "const                       5975.2947    265.073     22.542      0.000    5454.161    6496.428\n",
      "Nationality_Saudi           4642.0468    174.496     26.603      0.000    4298.987    4985.107\n",
      "Gender_Male                 2573.8338    174.192     14.776      0.000    2231.371    2916.296\n",
      "Degree Level_Diploma       -2511.1520    334.657     -7.504      0.000   -3169.089   -1853.215\n",
      "Degree Level_Doctorate      1.019e+04    323.488     31.497      0.000    9552.865    1.08e+04\n",
      "Degree Level_Intermediate  -5369.1950    340.485    -15.769      0.000   -6038.589   -4699.801\n",
      "Degree Level_Master Degree  4521.5643    328.404     13.768      0.000    3875.921    5167.208\n",
      "Degree Level_Primary       -6036.1860    333.195    -18.116      0.000   -6691.248   -5381.124\n",
      "Degree Level_Secondary     -4812.8508    321.598    -14.965      0.000   -5445.114   -4180.587\n",
      "==============================================================================\n",
      "Omnibus:                      154.022   Durbin-Watson:                   1.961\n",
      "Prob(Omnibus):                  0.000   Jarque-Bera (JB):             1457.287\n",
      "Skew:                           1.346   Prob(JB):                         0.00\n",
      "Kurtosis:                      11.919   Cond. No.                         10.0\n",
      "==============================================================================\n",
      "\n",
      "Notes:\n",
      "[1] Standard Errors assume that the covariance matrix of the errors is correctly specified.\n"
     ]
    }
   ],
   "source": [
    "X_train_Sm= sm.add_constant(x_train)\n",
    "X_train_Sm= sm.add_constant(x_train)\n",
    "ls=sm.OLS(y_train,X_train_Sm).fit()\n",
    "print(ls.summary())"
   ]
  },
  {
   "cell_type": "markdown",
   "metadata": {},
   "source": [
    "## 5. Results and Conclusions:\n",
    "\n",
    "**In conclusion, The following points are answers for the posed questions in the beginning  as a result of this project :**\n",
    "\n",
    "- The salary has a strong relationship with the level of education and it gets higher with the higher degrees.\n",
    "- The citizens in Saudi Arabia get a higher salary than the noncitizens with the same degree level.\n",
    "- The salaries are affected a little by the pandemic, the salaries before the pandemic are slightly higher than the salaries during the pandemic.\n",
    "- The developed Linear regression model can predict Salary with 91.5% as accuracy. \n"
   ]
  }
 ],
 "metadata": {
  "kernelspec": {
   "display_name": "Python 3",
   "language": "python",
   "name": "python3"
  },
  "language_info": {
   "codemirror_mode": {
    "name": "ipython",
    "version": 3
   },
   "file_extension": ".py",
   "mimetype": "text/x-python",
   "name": "python",
   "nbconvert_exporter": "python",
   "pygments_lexer": "ipython3",
   "version": "3.8.8"
  }
 },
 "nbformat": 4,
 "nbformat_minor": 4
}
